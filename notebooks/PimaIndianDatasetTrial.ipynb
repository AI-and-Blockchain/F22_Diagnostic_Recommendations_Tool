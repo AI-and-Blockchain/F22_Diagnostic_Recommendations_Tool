{
 "cells": [
  {
   "cell_type": "markdown",
   "id": "d815f861",
   "metadata": {},
   "source": [
    "Below two cells from Kaggle notebook: https://www.kaggle.com/code/scratchpad/notebooka341afdf51/edit"
   ]
  },
  {
   "cell_type": "code",
   "execution_count": 2,
   "id": "19de41dd",
   "metadata": {},
   "outputs": [],
   "source": [
    "import numpy as np # linear algebra\n",
    "import pandas as pd # data processing, CSV file I/O (e.g. pd.read_csv)\n",
    "import seaborn as sns # for data visualization\n",
    "import matplotlib.pyplot as plt # to plot charts\n",
    "from collections import Counter\n",
    "import os"
   ]
  },
  {
   "cell_type": "code",
   "execution_count": 3,
   "id": "bfa3ef86",
   "metadata": {},
   "outputs": [],
   "source": [
    "# Modeling\n",
    "from sklearn.preprocessing import QuantileTransformer\n",
    "from sklearn.metrics import confusion_matrix, accuracy_score, precision_score\n",
    "from sklearn.ensemble import RandomForestClassifier, AdaBoostClassifier, GradientBoostingClassifier, VotingClassifier\n",
    "from sklearn.linear_model import LogisticRegression\n",
    "from sklearn.neighbors import KNeighborsClassifier\n",
    "from sklearn.tree import DecisionTreeClassifier\n",
    "from sklearn.svm import SVC\n",
    "from sklearn.model_selection import GridSearchCV, cross_val_score, StratifiedKFold, learning_curve, train_test_split"
   ]
  },
  {
   "cell_type": "markdown",
   "id": "37c37e35",
   "metadata": {},
   "source": [
    "# Loading the pima indian dataset \n"
   ]
  },
  {
   "cell_type": "code",
   "execution_count": 25,
   "id": "de0f8c58",
   "metadata": {},
   "outputs": [],
   "source": [
    "#loading pima dataset\n",
    "pima_diabetes = pd.read_csv('../data/diabetes.csv')"
   ]
  },
  {
   "cell_type": "code",
   "execution_count": 9,
   "id": "85a12462",
   "metadata": {},
   "outputs": [
    {
     "data": {
      "text/plain": [
       "768"
      ]
     },
     "execution_count": 9,
     "metadata": {},
     "output_type": "execute_result"
    }
   ],
   "source": [
    "len(pima_diabetes)"
   ]
  },
  {
   "cell_type": "markdown",
   "id": "07132107",
   "metadata": {},
   "source": [
    "# Run these set of cells to generate breakdown of splits across hospitals "
   ]
  },
  {
   "cell_type": "code",
   "execution_count": 22,
   "id": "7716979b",
   "metadata": {},
   "outputs": [],
   "source": [
    "def get_across_hospital_split(dataset, no_hospital):\n",
    "    '''\n",
    "    Split dataset across hospitals evenly and randomly\n",
    "    '''    \n",
    "    #dictionary to hold records across each hospital\n",
    "    hospitals = {}\n",
    "        \n",
    "    shuffled = dataset.sample(frac=1)\n",
    "    result = np.array_split(shuffled, no_hospital) \n",
    "    ctr = 1\n",
    "    \n",
    "    for part in result:\n",
    "        hospitals['hospital ' + str(ctr)] = part\n",
    "        ctr += 1\n",
    "    \n",
    "    return hospitals"
   ]
  },
  {
   "cell_type": "code",
   "execution_count": 23,
   "id": "0b4b9e3a",
   "metadata": {},
   "outputs": [],
   "source": [
    "def save_hospital_split_to_file(split_data, hospital_no):\n",
    "    split_data.to_csv('../data/' + hospital_no + '.csv')"
   ]
  },
  {
   "cell_type": "code",
   "execution_count": 21,
   "id": "27791d06",
   "metadata": {},
   "outputs": [],
   "source": [
    "pima_split = get_across_hospital_split(pima_diabetes, 5)\n",
    "\n",
    "for hospital in pima_split.keys():\n",
    "    save_hospital_split_to_file(pima_split[hospital], hospital)"
   ]
  },
  {
   "cell_type": "markdown",
   "id": "23d14a26",
   "metadata": {},
   "source": [
    "# Train model with different classifiers and report accuracy "
   ]
  },
  {
   "cell_type": "code",
   "execution_count": null,
   "id": "2b2b72fe",
   "metadata": {},
   "outputs": [],
   "source": []
  }
 ],
 "metadata": {
  "kernelspec": {
   "display_name": "Python 3 (ipykernel)",
   "language": "python",
   "name": "python3"
  },
  "language_info": {
   "codemirror_mode": {
    "name": "ipython",
    "version": 3
   },
   "file_extension": ".py",
   "mimetype": "text/x-python",
   "name": "python",
   "nbconvert_exporter": "python",
   "pygments_lexer": "ipython3",
   "version": "3.9.12"
  }
 },
 "nbformat": 4,
 "nbformat_minor": 5
}
