{
 "cells": [
  {
   "cell_type": "markdown",
   "id": "d815f861",
   "metadata": {},
   "source": [
    "Below two cells from Kaggle notebook: https://www.kaggle.com/code/scratchpad/notebooka341afdf51/edit"
   ]
  },
  {
   "cell_type": "code",
   "execution_count": 1,
   "id": "19de41dd",
   "metadata": {},
   "outputs": [],
   "source": [
    "import numpy as np # linear algebra\n",
    "import pandas as pd # data processing, CSV file I/O (e.g. pd.read_csv)\n",
    "import seaborn as sns # for data visualization\n",
    "import matplotlib.pyplot as plt # to plot charts\n",
    "from collections import Counter\n",
    "import os"
   ]
  },
  {
   "cell_type": "code",
   "execution_count": 2,
   "id": "bfa3ef86",
   "metadata": {},
   "outputs": [],
   "source": [
    "# Modeling\n",
    "from sklearn.preprocessing import QuantileTransformer\n",
    "from sklearn.metrics import confusion_matrix, accuracy_score, precision_score\n",
    "from sklearn.ensemble import RandomForestClassifier, AdaBoostClassifier, GradientBoostingClassifier, VotingClassifier\n",
    "from sklearn.linear_model import LogisticRegression\n",
    "from sklearn.neighbors import KNeighborsClassifier\n",
    "from sklearn.tree import DecisionTreeClassifier\n",
    "from sklearn.svm import SVC\n",
    "from sklearn.model_selection import GridSearchCV, cross_val_score, StratifiedKFold, learning_curve, train_test_split"
   ]
  },
  {
   "cell_type": "markdown",
   "id": "0eccd67c",
   "metadata": {},
   "source": [
    "# Loading the pima indian dataset \n"
   ]
  },
  {
   "cell_type": "code",
   "execution_count": 3,
   "id": "de0f8c58",
   "metadata": {},
   "outputs": [],
   "source": [
    "#loading pima dataset\n",
    "pima_diabetes = pd.read_csv('../data/diabetes.csv')"
   ]
  },
  {
   "cell_type": "code",
   "execution_count": 4,
   "id": "85a12462",
   "metadata": {},
   "outputs": [
    {
     "data": {
      "text/plain": [
       "768"
      ]
     },
     "execution_count": 4,
     "metadata": {},
     "output_type": "execute_result"
    }
   ],
   "source": [
    "len(pima_diabetes)"
   ]
  },
  {
   "cell_type": "markdown",
   "id": "78a6347f",
   "metadata": {},
   "source": [
    "# Data exploration and imputation (that is setting zero values to median)"
   ]
  },
  {
   "cell_type": "code",
   "execution_count": 5,
   "id": "980953b2",
   "metadata": {},
   "outputs": [
    {
     "data": {
      "text/plain": [
       "Index(['Pregnancies', 'Glucose', 'BloodPressure', 'SkinThickness', 'Insulin',\n",
       "       'BMI', 'DiabetesPedigreeFunction', 'Age', 'Outcome'],\n",
       "      dtype='object')"
      ]
     },
     "execution_count": 5,
     "metadata": {},
     "output_type": "execute_result"
    }
   ],
   "source": [
    "pima_diabetes.columns"
   ]
  },
  {
   "cell_type": "code",
   "execution_count": 6,
   "id": "39e3ff35",
   "metadata": {},
   "outputs": [
    {
     "name": "stdout",
     "output_type": "stream",
     "text": [
      "1     135\n",
      "0     111\n",
      "2     103\n",
      "3      75\n",
      "4      68\n",
      "5      57\n",
      "6      50\n",
      "7      45\n",
      "8      38\n",
      "9      28\n",
      "10     24\n",
      "11     11\n",
      "13     10\n",
      "12      9\n",
      "14      2\n",
      "15      1\n",
      "17      1\n",
      "Name: Pregnancies, dtype: int64\n",
      "99     17\n",
      "100    17\n",
      "111    14\n",
      "129    14\n",
      "125    14\n",
      "       ..\n",
      "191     1\n",
      "177     1\n",
      "44      1\n",
      "62      1\n",
      "190     1\n",
      "Name: Glucose, Length: 136, dtype: int64\n",
      "70     57\n",
      "74     52\n",
      "78     45\n",
      "68     45\n",
      "72     44\n",
      "64     43\n",
      "80     40\n",
      "76     39\n",
      "60     37\n",
      "0      35\n",
      "62     34\n",
      "66     30\n",
      "82     30\n",
      "88     25\n",
      "84     23\n",
      "90     22\n",
      "86     21\n",
      "58     21\n",
      "50     13\n",
      "56     12\n",
      "52     11\n",
      "54     11\n",
      "75      8\n",
      "92      8\n",
      "65      7\n",
      "85      6\n",
      "94      6\n",
      "48      5\n",
      "96      4\n",
      "44      4\n",
      "100     3\n",
      "106     3\n",
      "98      3\n",
      "110     3\n",
      "55      2\n",
      "108     2\n",
      "104     2\n",
      "46      2\n",
      "30      2\n",
      "122     1\n",
      "95      1\n",
      "102     1\n",
      "61      1\n",
      "24      1\n",
      "38      1\n",
      "40      1\n",
      "114     1\n",
      "Name: BloodPressure, dtype: int64\n",
      "0     227\n",
      "32     31\n",
      "30     27\n",
      "27     23\n",
      "23     22\n",
      "33     20\n",
      "28     20\n",
      "18     20\n",
      "31     19\n",
      "19     18\n",
      "39     18\n",
      "29     17\n",
      "40     16\n",
      "25     16\n",
      "26     16\n",
      "22     16\n",
      "37     16\n",
      "41     15\n",
      "35     15\n",
      "36     14\n",
      "15     14\n",
      "17     14\n",
      "20     13\n",
      "24     12\n",
      "42     11\n",
      "13     11\n",
      "21     10\n",
      "46      8\n",
      "34      8\n",
      "12      7\n",
      "38      7\n",
      "11      6\n",
      "43      6\n",
      "16      6\n",
      "45      6\n",
      "14      6\n",
      "44      5\n",
      "10      5\n",
      "48      4\n",
      "47      4\n",
      "49      3\n",
      "50      3\n",
      "8       2\n",
      "7       2\n",
      "52      2\n",
      "54      2\n",
      "63      1\n",
      "60      1\n",
      "56      1\n",
      "51      1\n",
      "99      1\n",
      "Name: SkinThickness, dtype: int64\n",
      "0      374\n",
      "105     11\n",
      "130      9\n",
      "140      9\n",
      "120      8\n",
      "      ... \n",
      "73       1\n",
      "171      1\n",
      "255      1\n",
      "52       1\n",
      "112      1\n",
      "Name: Insulin, Length: 186, dtype: int64\n",
      "32.0    13\n",
      "31.6    12\n",
      "31.2    12\n",
      "0.0     11\n",
      "32.4    10\n",
      "        ..\n",
      "36.7     1\n",
      "41.8     1\n",
      "42.6     1\n",
      "42.8     1\n",
      "46.3     1\n",
      "Name: BMI, Length: 248, dtype: int64\n",
      "0.258    6\n",
      "0.254    6\n",
      "0.268    5\n",
      "0.207    5\n",
      "0.261    5\n",
      "        ..\n",
      "1.353    1\n",
      "0.655    1\n",
      "0.092    1\n",
      "0.926    1\n",
      "0.171    1\n",
      "Name: DiabetesPedigreeFunction, Length: 517, dtype: int64\n",
      "22    72\n",
      "21    63\n",
      "25    48\n",
      "24    46\n",
      "23    38\n",
      "28    35\n",
      "26    33\n",
      "27    32\n",
      "29    29\n",
      "31    24\n",
      "41    22\n",
      "30    21\n",
      "37    19\n",
      "42    18\n",
      "33    17\n",
      "38    16\n",
      "36    16\n",
      "32    16\n",
      "45    15\n",
      "34    14\n",
      "46    13\n",
      "43    13\n",
      "40    13\n",
      "39    12\n",
      "35    10\n",
      "50     8\n",
      "51     8\n",
      "52     8\n",
      "44     8\n",
      "58     7\n",
      "47     6\n",
      "54     6\n",
      "49     5\n",
      "48     5\n",
      "57     5\n",
      "53     5\n",
      "60     5\n",
      "66     4\n",
      "63     4\n",
      "62     4\n",
      "55     4\n",
      "67     3\n",
      "56     3\n",
      "59     3\n",
      "65     3\n",
      "69     2\n",
      "61     2\n",
      "72     1\n",
      "81     1\n",
      "64     1\n",
      "70     1\n",
      "68     1\n",
      "Name: Age, dtype: int64\n",
      "0    500\n",
      "1    268\n",
      "Name: Outcome, dtype: int64\n"
     ]
    }
   ],
   "source": [
    "#before counts\n",
    "for col in pima_diabetes.columns:\n",
    "    print(pima_diabetes[col].value_counts())\n"
   ]
  },
  {
   "cell_type": "code",
   "execution_count": 7,
   "id": "b3f8cd19",
   "metadata": {},
   "outputs": [],
   "source": [
    "non_zero_columns = ['Glucose', 'BloodPressure', 'SkinThickness', 'Insulin',\n",
    "       'BMI', 'Age']"
   ]
  },
  {
   "cell_type": "code",
   "execution_count": 8,
   "id": "b9c00274",
   "metadata": {},
   "outputs": [
    {
     "data": {
      "text/plain": [
       "6"
      ]
     },
     "execution_count": 8,
     "metadata": {},
     "output_type": "execute_result"
    }
   ],
   "source": [
    "len(non_zero_columns)"
   ]
  },
  {
   "cell_type": "code",
   "execution_count": null,
   "id": "4687b4d1",
   "metadata": {},
   "outputs": [],
   "source": [
    "#replace zero values with median of column\n",
    "for col in non_zero_columns:\n",
    "    pima_diabetes[col] = pima_diabetes[col].replace(0,pima_diabetes[col].median())"
   ]
  },
  {
   "cell_type": "code",
   "execution_count": null,
   "id": "a509104d",
   "metadata": {},
   "outputs": [],
   "source": [
    "#after counts - no zeroes should be present\n",
    "\n",
    "#before counts\n",
    "for col in pima_diabetes.columns:\n",
    "    print(pima_diabetes[col].value_counts())\n"
   ]
  },
  {
   "cell_type": "code",
   "execution_count": null,
   "id": "c428c51d",
   "metadata": {},
   "outputs": [],
   "source": [
    "#dropping unnamed columns\n",
    "pima_diabetes.drop(pima_diabetes.columns[pima_diabetes.columns.str.contains('unnamed',case = False)],axis = 1, inplace = True)\n"
   ]
  },
  {
   "cell_type": "code",
   "execution_count": null,
   "id": "dd2b9e33",
   "metadata": {},
   "outputs": [],
   "source": [
    "pima_diabetes.to_csv('../data/diabetes_val_corrected.csv')"
   ]
  },
  {
   "cell_type": "code",
   "execution_count": null,
   "id": "0666748f",
   "metadata": {},
   "outputs": [],
   "source": []
  },
  {
   "cell_type": "markdown",
   "id": "2259a509",
   "metadata": {},
   "source": [
    "# Run these set of cells to generate breakdown of splits across hospitals "
   ]
  },
  {
   "cell_type": "code",
   "execution_count": null,
   "id": "30297544",
   "metadata": {},
   "outputs": [],
   "source": [
    "pima_diabetes = pd.read_csv('../data/diabetes_val_corrected.csv', index_col=0)"
   ]
  },
  {
   "cell_type": "code",
   "execution_count": null,
   "id": "ad895a96",
   "metadata": {},
   "outputs": [],
   "source": [
    "pima_diabetes.columns\n"
   ]
  },
  {
   "cell_type": "code",
   "execution_count": null,
   "id": "7716979b",
   "metadata": {},
   "outputs": [],
   "source": [
    "def get_across_hospital_split(dataset, no_hospital):\n",
    "    '''\n",
    "    Split dataset across hospitals evenly and randomly\n",
    "    '''    \n",
    "    #dictionary to hold records across each hospital\n",
    "    hospitals = {}\n",
    "        \n",
    "    shuffled = dataset.sample(frac=1)\n",
    "    result = np.array_split(shuffled, no_hospital) \n",
    "    ctr = 1\n",
    "    \n",
    "    for part in result:\n",
    "        hospitals['hospital' + str(ctr)] = part\n",
    "        ctr += 1\n",
    "    \n",
    "    return hospitals"
   ]
  },
  {
   "cell_type": "code",
   "execution_count": null,
   "id": "24b56fac",
   "metadata": {},
   "outputs": [],
   "source": [
    "def save_hospital_split_to_file(split_data, hospital_no):\n",
    "    split_data.to_csv('../data/' + hospital_no + '.csv')"
   ]
  },
  {
   "cell_type": "code",
   "execution_count": null,
   "id": "c5af374b",
   "metadata": {},
   "outputs": [],
   "source": [
    "pima_split = get_across_hospital_split(pima_diabetes, 5)\n",
    "\n",
    "for hospital in pima_split.keys():\n",
    "    save_hospital_split_to_file(pima_split[hospital], hospital)"
   ]
  },
  {
   "cell_type": "markdown",
   "id": "0f3ab0f3",
   "metadata": {},
   "source": [
    "All data is always written to the ../data folder and is named either via the hospital_x.csv or if it is the full file - it is named as diabetes.csv"
   ]
  },
  {
   "cell_type": "markdown",
   "id": "925865ad",
   "metadata": {},
   "source": [
    "# Below code onwards is in MachineLearningComp -  Train model with different classifiers and report accuracy "
   ]
  },
  {
   "cell_type": "markdown",
   "id": "0b933ec8",
   "metadata": {},
   "source": [
    "Data Pre-processing"
   ]
  },
  {
   "cell_type": "code",
   "execution_count": null,
   "id": "4662f9d4",
   "metadata": {},
   "outputs": [],
   "source": [
    "from sklearn.preprocessing import QuantileTransformer"
   ]
  },
  {
   "cell_type": "code",
   "execution_count": null,
   "id": "6e69f572",
   "metadata": {},
   "outputs": [],
   "source": [
    "q  = QuantileTransformer()\n",
    "X = q.fit_transform(pima_diabetes)\n",
    "transformedDF = q.transform(X)\n",
    "transformedDF = pd.DataFrame(X)\n",
    "transformedDF.columns = pima_diabetes.columns"
   ]
  },
  {
   "cell_type": "code",
   "execution_count": null,
   "id": "192c6d80",
   "metadata": {},
   "outputs": [],
   "source": [
    "pima_diabetes"
   ]
  },
  {
   "cell_type": "code",
   "execution_count": null,
   "id": "575e9a70",
   "metadata": {},
   "outputs": [],
   "source": [
    "transformedDF"
   ]
  },
  {
   "cell_type": "markdown",
   "id": "28fa7780",
   "metadata": {},
   "source": [
    "## creating a train and test dataset with the transformed data "
   ]
  },
  {
   "cell_type": "code",
   "execution_count": null,
   "id": "f795983a",
   "metadata": {},
   "outputs": [],
   "source": [
    "from sklearn.metrics import classification_report"
   ]
  },
  {
   "cell_type": "code",
   "execution_count": null,
   "id": "d9b76483",
   "metadata": {},
   "outputs": [],
   "source": [
    "## Separate train dataset and test dataset\n",
    "def generate_train_test_split(transformedDF, test_size):\n",
    "    features = transformedDF.drop([\"Outcome\"], axis=1)\n",
    "    labels = transformedDF[\"Outcome\"]\n",
    "    x_train, x_test, y_train, y_test = train_test_split(features, labels, test_size=0.30, random_state=7)\n",
    "    return x_train, x_test, y_train, y_test"
   ]
  },
  {
   "cell_type": "code",
   "execution_count": null,
   "id": "ade74e47",
   "metadata": {},
   "outputs": [],
   "source": [
    "def evaluate_model(models, x_train, y_train):\n",
    "    \"\"\"\n",
    "    Takes a list of models and returns chart of cross validation scores using mean accuracy\n",
    "    \"\"\"\n",
    "    \n",
    "    # Cross validate model with Kfold stratified cross val\n",
    "    kfold = StratifiedKFold(n_splits = 10)\n",
    "    \n",
    "    result = []\n",
    "    for model in models :\n",
    "        model_cv = cross_val_score(estimator = model[1], X = x_train, y = y_train, scoring = \"accuracy\", \n",
    "                                      cv = kfold, n_jobs=4)\n",
    "        result.append(model_cv)\n",
    "\n",
    "    cv_means = []\n",
    "    cv_std = []\n",
    "    for cv_result in result:\n",
    "        #print(cv_result)\n",
    "        cv_means.append(cv_result.mean())\n",
    "        cv_std.append(cv_result.std())\n",
    "\n",
    "    result_df = pd.DataFrame({\n",
    "        \"CrossValMeans\":cv_means,\n",
    "        \"CrossValerrors\": cv_std,\n",
    "        \"Models\":[m[0] for m in models]\n",
    "    })\n",
    "\n",
    "    # Generate chart\n",
    "    bar = sns.barplot(x = \"CrossValMeans\", y = \"Models\", data = result_df, orient = \"h\")\n",
    "    bar.set_xlabel(\"Mean Accuracy\")\n",
    "    bar.set_title(\"Cross validation scores\")\n",
    "    return result_df"
   ]
  },
  {
   "cell_type": "code",
   "execution_count": null,
   "id": "871a2af9",
   "metadata": {},
   "outputs": [],
   "source": [
    "def fit_and_predict_models(model, x_train, y_train, x_test, y_test):\n",
    "    '''\n",
    "    Function to train a model, test it and report F1, precision and recall on the test predictions\n",
    "    '''\n",
    "    model[1].fit(x_train, y_train)\n",
    "    y_pred_model = model[1].predict(x_test)\n",
    "    print('Model : ' + model[0])\n",
    "    class_report = classification_report(y_test, y_pred_model, output_dict=True)   \n",
    "    #converting report to dataframe\n",
    "    class_report = pd.DataFrame(class_report).T\n",
    "    class_report = class_report.set_axis(class_report.columns, axis=1, inplace=False).rename_axis('dimensions',axis=0)\n",
    "    class_report.reset_index(inplace=True)\n",
    "    #printing and returning report\n",
    "    print(class_report)\n",
    "    return class_report"
   ]
  },
  {
   "cell_type": "markdown",
   "id": "9c5a766e",
   "metadata": {},
   "source": [
    "# Training and test on models - i.e., calling all before defined functions"
   ]
  },
  {
   "cell_type": "code",
   "execution_count": null,
   "id": "f7dd3169",
   "metadata": {},
   "outputs": [],
   "source": [
    "random_state = 30\n",
    "models = [\n",
    "    ['Logistic Regression', LogisticRegression(random_state = random_state, solver='liblinear')],\n",
    "    ['Decision Tree',DecisionTreeClassifier(random_state = random_state)],\n",
    "    ['Random Forest', RandomForestClassifier(random_state = random_state)],\n",
    "]\n",
    "\n",
    "x_train, x_test, y_train, y_test = generate_train_test_split(transformedDF, 0.30)\n",
    "evaluate_model(models, x_train, y_train)\n",
    "model_reps = {}\n",
    "\n",
    "for model in models:\n",
    "    class_report = fit_and_predict_models(model, x_train, y_train, x_test, y_test)\n",
    "    model_reps[model[0]] = class_report\n"
   ]
  },
  {
   "cell_type": "code",
   "execution_count": null,
   "id": "faef4847",
   "metadata": {},
   "outputs": [],
   "source": [
    "model_reps['Logistic Regression'][model_reps['Logistic Regression']['dimensions'] == 'weighted avg']"
   ]
  },
  {
   "cell_type": "code",
   "execution_count": null,
   "id": "371d8c6c",
   "metadata": {},
   "outputs": [],
   "source": []
  },
  {
   "cell_type": "code",
   "execution_count": null,
   "id": "db0b3c60",
   "metadata": {},
   "outputs": [],
   "source": []
  }
 ],
 "metadata": {
  "kernelspec": {
   "display_name": "Python 3 (ipykernel)",
   "language": "python",
   "name": "python3"
  },
  "language_info": {
   "codemirror_mode": {
    "name": "ipython",
    "version": 3
   },
   "file_extension": ".py",
   "mimetype": "text/x-python",
   "name": "python",
   "nbconvert_exporter": "python",
   "pygments_lexer": "ipython3",
   "version": "3.9.12"
  }
 },
 "nbformat": 4,
 "nbformat_minor": 5
}
